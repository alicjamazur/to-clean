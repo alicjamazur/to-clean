{
 "cells": [
  {
   "cell_type": "markdown",
   "metadata": {},
   "source": [
    "# Skip-gram word2vec\n",
    "\n",
    "In this notebook, I'll lead you through using TensorFlow to implement the word2vec algorithm using the skip-gram architecture. By implementing this, you'll learn about embedding words for use in natural language processing. This will come in handy when dealing with things like machine translation.\n",
    "\n",
    "## Readings\n",
    "\n",
    "Here are the resources I used to build this notebook. I suggest reading these either beforehand or while you're working on this material.\n",
    "\n",
    "* A really good [conceptual overview](http://mccormickml.com/2016/04/19/word2vec-tutorial-the-skip-gram-model/) of word2vec from Chris McCormick \n",
    "* [First word2vec paper](https://arxiv.org/pdf/1301.3781.pdf) from Mikolov et al.\n",
    "* [NIPS paper](http://papers.nips.cc/paper/5021-distributed-representations-of-words-and-phrases-and-their-compositionality.pdf) with improvements for word2vec also from Mikolov et al.\n",
    "* An [implementation of word2vec](http://www.thushv.com/natural_language_processing/word2vec-part-1-nlp-with-deep-learning-with-tensorflow-skip-gram/) from Thushan Ganegedara\n",
    "* TensorFlow [word2vec tutorial](https://www.tensorflow.org/tutorials/word2vec)\n",
    "\n",
    "## Word embeddings\n",
    "\n",
    "When you're dealing with words in text, you end up with tens of thousands of classes to predict, one for each word. Trying to one-hot encode these words is massively inefficient, you'll have one element set to 1 and the other 50,000 set to 0. The matrix multiplication going into the first hidden layer will have almost all of the resulting values be zero. This a huge waste of computation. \n",
    "\n",
    "![one-hot encodings](assets/one_hot_encoding.png)\n",
    "\n",
    "To solve this problem and greatly increase the efficiency of our networks, we use what are called embeddings. Embeddings are just a fully connected layer like you've seen before. We call this layer the embedding layer and the weights are embedding weights. We skip the multiplication into the embedding layer by instead directly grabbing the hidden layer values from the weight matrix. We can do this because the multiplication of a one-hot encoded vector with a matrix returns the row of the matrix corresponding the index of the \"on\" input unit.\n",
    "\n",
    "![lookup](assets/lookup_matrix.png)\n",
    "\n",
    "Instead of doing the matrix multiplication, we use the weight matrix as a lookup table. We encode the words as integers, for example \"heart\" is encoded as 958, \"mind\" as 18094. Then to get hidden layer values for \"heart\", you just take the 958th row of the embedding matrix. This process is called an **embedding lookup** and the number of hidden units is the **embedding dimension**.\n",
    "\n",
    "<img src='assets/tokenize_lookup.png' width=500>\n",
    " \n",
    "There is nothing magical going on here. The embedding lookup table is just a weight matrix. The embedding layer is just a hidden layer. The lookup is just a shortcut for the matrix multiplication. The lookup table is trained just like any weight matrix as well.\n",
    "\n",
    "Embeddings aren't only used for words of course. You can use them for any model where you have a massive number of classes. A particular type of model called **Word2Vec** uses the embedding layer to find vector representations of words that contain semantic meaning.\n",
    "\n"
   ]
  },
  {
   "cell_type": "markdown",
   "metadata": {},
   "source": [
    "## Word2Vec\n",
    "\n",
    "The word2vec algorithm finds much more efficient representations by finding vectors that represent the words. These vectors also contain semantic information about the words. Words that show up in similar contexts, such as \"black\", \"white\", and \"red\" will have vectors near each other. There are two architectures for implementing word2vec, CBOW (Continuous Bag-Of-Words) and Skip-gram.\n",
    "\n",
    "<img src=\"assets/word2vec_architectures.png\" width=\"500\">\n",
    "\n",
    "In this implementation, we'll be using the skip-gram architecture because it performs better than CBOW. Here, we pass in a word and try to predict the words surrounding it in the text. In this way, we can train the network to learn representations for words that show up in similar contexts.\n",
    "\n",
    "First up, importing packages."
   ]
  },
  {
   "cell_type": "code",
   "execution_count": 1,
   "metadata": {},
   "outputs": [
    {
     "name": "stderr",
     "output_type": "stream",
     "text": [
      "/Applications/anaconda3/lib/python3.6/site-packages/h5py/__init__.py:36: FutureWarning: Conversion of the second argument of issubdtype from `float` to `np.floating` is deprecated. In future, it will be treated as `np.float64 == np.dtype(float).type`.\n",
      "  from ._conv import register_converters as _register_converters\n"
     ]
    }
   ],
   "source": [
    "import time\n",
    "\n",
    "import numpy as np\n",
    "import tensorflow as tf\n",
    "\n",
    "import utils"
   ]
  },
  {
   "cell_type": "markdown",
   "metadata": {},
   "source": [
    "Load the [text8 dataset](http://mattmahoney.net/dc/textdata.html), a file of cleaned up Wikipedia articles from Matt Mahoney. The next cell will download the data set to the `data` folder. Then you can extract it and delete the archive file to save storage space."
   ]
  },
  {
   "cell_type": "code",
   "execution_count": 2,
   "metadata": {},
   "outputs": [],
   "source": [
    "from urllib.request import urlretrieve\n",
    "from os.path import isfile, isdir\n",
    "from tqdm import tqdm\n",
    "import zipfile\n",
    "\n",
    "dataset_folder_path = 'data'\n",
    "dataset_filename = 'text8.zip'\n",
    "dataset_name = 'Text8 Dataset'\n",
    "\n",
    "class DLProgress(tqdm):\n",
    "    last_block = 0\n",
    "\n",
    "    def hook(self, block_num=1, block_size=1, total_size=None):\n",
    "        self.total = total_size\n",
    "        self.update((block_num - self.last_block) * block_size)\n",
    "        self.last_block = block_num\n",
    "\n",
    "if not isfile(dataset_filename):\n",
    "    with DLProgress(unit='B', unit_scale=True, miniters=1, desc=dataset_name) as pbar:\n",
    "        urlretrieve(\n",
    "            'http://mattmahoney.net/dc/text8.zip',\n",
    "            dataset_filename,\n",
    "            pbar.hook)\n",
    "\n",
    "if not isdir(dataset_folder_path):\n",
    "    with zipfile.ZipFile(dataset_filename) as zip_ref:\n",
    "        zip_ref.extractall(dataset_folder_path)\n",
    "        \n",
    "with open('data/text8') as f:\n",
    "    text = f.read()"
   ]
  },
  {
   "cell_type": "markdown",
   "metadata": {},
   "source": [
    "## Preprocessing\n",
    "\n",
    "Here I'm fixing up the text to make training easier. This comes from the `utils` module I wrote. The `preprocess` function coverts any punctuation into tokens, so a period is changed to ` <PERIOD> `. In this data set, there aren't any periods, but it will help in other NLP problems. I'm also removing all words that show up five or fewer times in the dataset. This will greatly reduce issues due to noise in the data and improve the quality of the vector representations. If you want to write your own functions for this stuff, go for it."
   ]
  },
  {
   "cell_type": "code",
   "execution_count": 3,
   "metadata": {},
   "outputs": [
    {
     "name": "stdout",
     "output_type": "stream",
     "text": [
      "['anarchism', 'originated', 'as', 'a', 'term', 'of', 'abuse', 'first', 'used', 'against', 'early', 'working', 'class', 'radicals', 'including', 'the', 'diggers', 'of', 'the', 'english', 'revolution', 'and', 'the', 'sans', 'culottes', 'of', 'the', 'french', 'revolution', 'whilst']\n"
     ]
    }
   ],
   "source": [
    "words = utils.preprocess(text)\n",
    "print(words[:30])"
   ]
  },
  {
   "cell_type": "code",
   "execution_count": 4,
   "metadata": {},
   "outputs": [
    {
     "name": "stdout",
     "output_type": "stream",
     "text": [
      "Total words: 16680599\n",
      "Unique words: 63641\n"
     ]
    }
   ],
   "source": [
    "print(\"Total words: {}\".format(len(words)))\n",
    "print(\"Unique words: {}\".format(len(set(words))))"
   ]
  },
  {
   "cell_type": "markdown",
   "metadata": {},
   "source": [
    "And here I'm creating dictionaries to convert words to integers and backwards, integers to words. The integers are assigned in descending frequency order, so the most frequent word (\"the\") is given the integer 0 and the next most frequent is 1 and so on. The words are converted to integers and stored in the list `int_words`."
   ]
  },
  {
   "cell_type": "code",
   "execution_count": 5,
   "metadata": {},
   "outputs": [],
   "source": [
    "vocab_to_int, int_to_vocab = utils.create_lookup_tables(words)\n",
    "int_words = [vocab_to_int[word] for word in words]"
   ]
  },
  {
   "cell_type": "code",
   "execution_count": 6,
   "metadata": {},
   "outputs": [
    {
     "data": {
      "text/plain": [
       "'of'"
      ]
     },
     "execution_count": 6,
     "metadata": {},
     "output_type": "execute_result"
    }
   ],
   "source": [
    "int_to_vocab[1]"
   ]
  },
  {
   "cell_type": "markdown",
   "metadata": {},
   "source": [
    "## Subsampling\n",
    "\n",
    "Words that show up often such as \"the\", \"of\", and \"for\" don't provide much context to the nearby words. If we discard some of them, we can remove some of the noise from our data and in return get faster training and better representations. This process is called subsampling by Mikolov. For each word $w_i$ in the training set, we'll discard it with probability given by \n",
    "\n",
    "$$ P(w_i) = 1 - \\sqrt{\\frac{t}{f(w_i)}} $$\n",
    "\n",
    "where $t$ is a threshold parameter and $f(w_i)$ is the frequency of word $w_i$ in the total dataset.\n",
    "\n",
    "I'm going to leave this up to you as an exercise. This is more of a programming challenge, than about deep learning specifically. But, being able to prepare your data for your network is an important skill to have. Check out my solution to see how I did it.\n",
    "\n",
    "> **Exercise:** Implement subsampling for the words in `int_words`. That is, go through `int_words` and discard each word given the probablility $P(w_i)$ shown above. Note that $P(w_i)$ is the probability that a word is discarded. Assign the subsampled data to `train_words`."
   ]
  },
  {
   "cell_type": "code",
   "execution_count": 276,
   "metadata": {},
   "outputs": [
    {
     "data": {
      "text/plain": [
       "4630156"
      ]
     },
     "execution_count": 276,
     "metadata": {},
     "output_type": "execute_result"
    }
   ],
   "source": [
    "## Your code here\n",
    "import random\n",
    "from collections import Counter\n",
    "\n",
    "#Set a threshold and discard probability\n",
    "t = 1e-5\n",
    "\n",
    "# Leave words when the probability of them being discarded is less that P \n",
    "train_words = []\n",
    "count = Counter(int_words)\n",
    "P = {word: 1 - np.sqrt(t/(counts/len(int_words))) for word, counts in count.items()}\n",
    "                  \n",
    "for word in int_words:\n",
    "    if random.random() > P[word]:\n",
    "        train_words.append(word)\n",
    "        "
   ]
  },
  {
   "cell_type": "markdown",
   "metadata": {},
   "source": [
    "## Making batches"
   ]
  },
  {
   "cell_type": "markdown",
   "metadata": {},
   "source": [
    "Now that our data is in good shape, we need to get it into the proper form to pass it into our network. With the skip-gram architecture, for each word in the text, we want to grab all the words in a window around that word, with size $C$. \n",
    "\n",
    "From [Mikolov et al.](https://arxiv.org/pdf/1301.3781.pdf): \n",
    "\n",
    "\"Since the more distant words are usually less related to the current word than those close to it, we give less weight to the distant words by sampling less from those words in our training examples... If we choose $C = 5$, for each training word we will select randomly a number $R$ in range $< 1; C >$, and then use $R$ words from history and $R$ words from the future of the current word as correct labels.\"\n",
    "\n",
    "> **Exercise:** Implement a function `get_target` that receives a list of words, an index, and a window size, then returns a list of words in the window around the index. Make sure to use the algorithm described above, where you choose a random number of words from the window."
   ]
  },
  {
   "cell_type": "code",
   "execution_count": 277,
   "metadata": {},
   "outputs": [],
   "source": [
    "def get_target(words, idx, window_size):\n",
    "    ''' Get a list of words in a window around an index. '''\n",
    "    \n",
    "    # Your code here\n",
    "    R = np.random.randint(1, window_size + 1)\n",
    "    target = set([words[idx + w] for w in range(-R, R + 1) if w != 0 and (idx + w) < len(words)])\n",
    "    \n",
    "    return list(target)"
   ]
  },
  {
   "cell_type": "markdown",
   "metadata": {},
   "source": [
    "Here's a function that returns batches for our network. The idea is that it grabs `batch_size` words from a words list. Then for each of those words, it gets the target words in the window. I haven't found a way to pass in a random number of target words and get it to work with the architecture, so I make one row per input-target pair. This is a generator function by the way, helps save memory."
   ]
  },
  {
   "cell_type": "code",
   "execution_count": 278,
   "metadata": {},
   "outputs": [],
   "source": [
    "def get_batches(words, batch_size, window_size=5):\n",
    "    ''' Create a generator of word batches as a tuple (inputs, targets) '''\n",
    "    \n",
    "    n_batches = len(words)//batch_size\n",
    "    \n",
    "    # only full batches\n",
    "    words = words[:n_batches*batch_size]\n",
    "    \n",
    "    for idx in range(0, len(words), batch_size):\n",
    "        x, y = [], []\n",
    "        batch = words[idx:idx+batch_size]\n",
    "        for ii in range(len(batch)):\n",
    "            batch_x = batch[ii]\n",
    "            batch_y = get_target(batch, ii, window_size)\n",
    "            y.extend(batch_y)\n",
    "            x.extend([batch_x]*len(batch_y))\n",
    "        yield x, y\n",
    "    "
   ]
  },
  {
   "cell_type": "markdown",
   "metadata": {},
   "source": [
    "## Building the graph\n",
    "\n",
    "From [Chris McCormick's blog](http://mccormickml.com/2016/04/19/word2vec-tutorial-the-skip-gram-model/), we can see the general structure of our network.\n",
    "![embedding_network](./assets/skip_gram_net_arch.png)\n",
    "\n",
    "The input words are passed in as integers. This will go into a hidden layer of linear units, then into a softmax layer. We'll use the softmax layer to make a prediction like normal.\n",
    "\n",
    "The idea here is to train the hidden layer weight matrix to find efficient representations for our words. We can discard the softmax layer becuase we don't really care about making predictions with this network. We just want the embedding matrix so we can use it in other networks we build from the dataset.\n",
    "\n",
    "I'm going to have you build the graph in stages now. First off, creating the `inputs` and `labels` placeholders like normal.\n",
    "\n",
    "> **Exercise:** Assign `inputs` and `labels` using `tf.placeholder`. We're going to be passing in integers, so set the data types to `tf.int32`. The batches we're passing in will have varying sizes, so set the batch sizes to [`None`]. To make things work later, you'll need to set the second dimension of `labels` to `None` or `1`."
   ]
  },
  {
   "cell_type": "code",
   "execution_count": 279,
   "metadata": {},
   "outputs": [],
   "source": [
    "train_graph = tf.Graph()\n",
    "with train_graph.as_default():\n",
    "    inputs = tf.placeholder(dtype=tf.int32, shape=[None])\n",
    "    labels = tf.placeholder(dtype=tf.int32, shape=[None, None])"
   ]
  },
  {
   "cell_type": "markdown",
   "metadata": {},
   "source": [
    "## Embedding\n",
    "\n"
   ]
  },
  {
   "cell_type": "markdown",
   "metadata": {
    "collapsed": true
   },
   "source": [
    "The embedding matrix has a size of the number of words by the number of units in the hidden layer. So, if you have 10,000 words and 300 hidden units, the matrix will have size $10,000 \\times 300$. Remember that we're using tokenized data for our inputs, usually as integers, where the number of tokens is the number of words in our vocabulary.\n",
    "\n",
    "\n",
    "> **Exercise:** Tensorflow provides a convenient function [`tf.nn.embedding_lookup`](https://www.tensorflow.org/api_docs/python/tf/nn/embedding_lookup) that does this lookup for us. You pass in the embedding matrix and a tensor of integers, then it returns rows in the matrix corresponding to those integers. Below, set the number of embedding features you'll use (200 is a good start), create the embedding matrix variable, and use `tf.nn.embedding_lookup` to get the embedding tensors. For the embedding matrix, I suggest you initialize it with a uniform random numbers between -1 and 1 using [tf.random_uniform](https://www.tensorflow.org/api_docs/python/tf/random_uniform)."
   ]
  },
  {
   "cell_type": "code",
   "execution_count": 280,
   "metadata": {},
   "outputs": [],
   "source": [
    "n_vocab = len(int_to_vocab)\n",
    "n_embedding = 200 # Number of embedding features \n",
    "with train_graph.as_default():\n",
    "    embedding = tf.Variable(tf.random_uniform((n_vocab, n_embedding), -1, 1))\n",
    "    embed = tf.nn.embedding_lookup(embedding, inputs)"
   ]
  },
  {
   "cell_type": "markdown",
   "metadata": {},
   "source": [
    "## Negative sampling\n",
    "\n"
   ]
  },
  {
   "cell_type": "markdown",
   "metadata": {},
   "source": [
    "For every example we give the network, we train it using the output from the softmax layer. That means for each input, we're making very small changes to millions of weights even though we only have one true example. This makes training the network very inefficient. We can approximate the loss from the softmax layer by only updating a small subset of all the weights at once. We'll update the weights for the correct label, but only a small number of incorrect labels. This is called [\"negative sampling\"](http://papers.nips.cc/paper/5021-distributed-representations-of-words-and-phrases-and-their-compositionality.pdf). Tensorflow has a convenient function to do this, [`tf.nn.sampled_softmax_loss`](https://www.tensorflow.org/api_docs/python/tf/nn/sampled_softmax_loss).\n",
    "\n",
    "> **Exercise:** Below, create weights and biases for the softmax layer. Then, use [`tf.nn.sampled_softmax_loss`](https://www.tensorflow.org/api_docs/python/tf/nn/sampled_softmax_loss) to calculate the loss. Be sure to read the documentation to figure out how it works."
   ]
  },
  {
   "cell_type": "code",
   "execution_count": 281,
   "metadata": {},
   "outputs": [],
   "source": [
    "# Number of negative labels to sample\n",
    "n_sampled = 100\n",
    "with train_graph.as_default():\n",
    "    softmax_w = tf.Variable(tf.truncated_normal((n_vocab, n_embedding), stddev=0.1))# create softmax weight matrix here\n",
    "    softmax_b = tf.Variable(tf.zeros(n_vocab)) # create softmax biases here\n",
    "    \n",
    "    # Calculate the loss using negative sampling\n",
    "    loss = tf.nn.sampled_softmax_loss(softmax_w, softmax_b, labels, embed, n_sampled, n_vocab)\n",
    "    \n",
    "    cost = tf.reduce_mean(loss)\n",
    "    optimizer = tf.train.AdamOptimizer().minimize(cost)"
   ]
  },
  {
   "cell_type": "markdown",
   "metadata": {},
   "source": [
    "## Validation\n",
    "\n",
    "This code is from Thushan Ganegedara's implementation. Here we're going to choose a few common words and few uncommon words. Then, we'll print out the closest words to them. It's a nice way to check that our embedding table is grouping together words with similar semantic meanings."
   ]
  },
  {
   "cell_type": "code",
   "execution_count": 282,
   "metadata": {},
   "outputs": [],
   "source": [
    "with train_graph.as_default():\n",
    "    ## From Thushan Ganegedara's implementation\n",
    "    valid_size = 16 # Random set of words to evaluate similarity on.\n",
    "    valid_window = 100\n",
    "    # pick 8 samples from (0,100) and (1000,1100) each ranges. lower id implies more frequent \n",
    "    valid_examples = np.array(random.sample(range(valid_window), valid_size//2))\n",
    "    valid_examples = np.append(valid_examples, \n",
    "                               random.sample(range(1000,1000+valid_window), valid_size//2))\n",
    "\n",
    "    valid_dataset = tf.constant(valid_examples, dtype=tf.int32)\n",
    "    \n",
    "    # We use the cosine distance:\n",
    "    norm = tf.sqrt(tf.reduce_sum(tf.square(embedding), 1, keep_dims=True))\n",
    "    normalized_embedding = embedding / norm\n",
    "    valid_embedding = tf.nn.embedding_lookup(normalized_embedding, valid_dataset)\n",
    "    similarity = tf.matmul(valid_embedding, tf.transpose(normalized_embedding))"
   ]
  },
  {
   "cell_type": "code",
   "execution_count": 283,
   "metadata": {},
   "outputs": [
    {
     "name": "stdout",
     "output_type": "stream",
     "text": [
      "mkdir: checkpoints: File exists\r\n"
     ]
    }
   ],
   "source": [
    "# If the checkpoints directory doesn't exist:\n",
    "!mkdir checkpoints"
   ]
  },
  {
   "cell_type": "markdown",
   "metadata": {},
   "source": [
    "## Training\n",
    "\n",
    "Below is the code to train the network. Every 100 batches it reports the training loss. Every 1000 batches, it'll print out the validation words."
   ]
  },
  {
   "cell_type": "code",
   "execution_count": 285,
   "metadata": {},
   "outputs": [
    {
     "name": "stdout",
     "output_type": "stream",
     "text": [
      "Epoch 1/10 Iteration: 100 Avg. Training loss: 5.6478 0.1969 sec/batch\n",
      "Epoch 1/10 Iteration: 200 Avg. Training loss: 5.6419 0.1831 sec/batch\n",
      "Epoch 1/10 Iteration: 300 Avg. Training loss: 5.4820 0.1848 sec/batch\n",
      "Epoch 1/10 Iteration: 400 Avg. Training loss: 5.5916 0.1857 sec/batch\n",
      "Epoch 1/10 Iteration: 500 Avg. Training loss: 5.4992 0.1858 sec/batch\n",
      "Epoch 1/10 Iteration: 600 Avg. Training loss: 5.5375 0.1873 sec/batch\n",
      "Epoch 1/10 Iteration: 700 Avg. Training loss: 5.5612 0.1858 sec/batch\n",
      "Epoch 1/10 Iteration: 800 Avg. Training loss: 5.5463 0.1880 sec/batch\n",
      "Epoch 1/10 Iteration: 900 Avg. Training loss: 5.5093 0.2017 sec/batch\n",
      "Epoch 1/10 Iteration: 1000 Avg. Training loss: 5.4249 0.2011 sec/batch\n",
      "Nearest to they: informatique, structured, offices, cardio, captopril, spongy, turnout, ouaddai,\n",
      "Nearest to if: catalonia, emulating, major, apsaras, started, kerosene, astros, fab,\n",
      "Nearest to many: dialup, family, cpus, shattered, seeing, prophesied, boise, prudent,\n",
      "Nearest to first: critical, ivanova, nautilus, notochord, migrating, coulter, nostra, pashtunistan,\n",
      "Nearest to on: paramount, aam, bjp, adverse, branca, plattsburgh, footnotes, milne,\n",
      "Nearest to and: filmography, washing, illuminated, ladas, tulip, currying, bjp, iho,\n",
      "Nearest to who: gnasher, colloquially, revoke, signing, restorer, harmonically, disenchanted, homologues,\n",
      "Nearest to no: kircher, allegorically, obj, maeshowe, weblog, forint, cummins, rsdlp,\n",
      "Nearest to road: based, rhubarb, confirms, slaves, crests, daybreak, cellists, worships,\n",
      "Nearest to pressure: callithrix, cones, bjorn, arabidopsis, backup, diazonium, bacharach, lathes,\n",
      "Nearest to marriage: entourage, ambedkar, legal, agnostics, irons, perched, holstein, caml,\n",
      "Nearest to issue: kariba, conductor, benz, creating, unto, situations, deuteronomy, pythons,\n",
      "Nearest to paris: goths, agglomeration, contrasting, appealed, amarna, cbc, ctus, size,\n",
      "Nearest to channel: remedied, adjoined, fusional, voraciously, sundials, secaucus, newfound, regress,\n",
      "Nearest to orthodox: leave, pegmatite, realistic, syncretism, numeration, onyx, yeti, kj,\n",
      "Nearest to powers: maude, feudal, olive, uncles, nahin, mig, informally, berger,\n",
      "Epoch 1/10 Iteration: 1100 Avg. Training loss: 5.4921 0.2096 sec/batch\n",
      "Epoch 1/10 Iteration: 1200 Avg. Training loss: 5.3710 0.2043 sec/batch\n",
      "Epoch 1/10 Iteration: 1300 Avg. Training loss: 5.3457 0.1945 sec/batch\n",
      "Epoch 1/10 Iteration: 1400 Avg. Training loss: 5.2906 0.1896 sec/batch\n",
      "Epoch 1/10 Iteration: 1500 Avg. Training loss: 5.2000 0.1953 sec/batch\n",
      "Epoch 1/10 Iteration: 1600 Avg. Training loss: 5.1897 0.1949 sec/batch\n",
      "Epoch 1/10 Iteration: 1700 Avg. Training loss: 5.1244 0.1918 sec/batch\n",
      "Epoch 1/10 Iteration: 1800 Avg. Training loss: 5.0796 0.1934 sec/batch\n",
      "Epoch 1/10 Iteration: 1900 Avg. Training loss: 5.0124 0.1926 sec/batch\n",
      "Epoch 1/10 Iteration: 2000 Avg. Training loss: 4.9711 0.1916 sec/batch\n",
      "Nearest to they: informatique, structured, offices, anyway, spongy, that, cf, there,\n",
      "Nearest to if: catalonia, major, started, emulating, apsaras, kerosene, painted, winters,\n",
      "Nearest to many: family, cpus, seeing, disagreement, true, dialup, shattered, warfare,\n",
      "Nearest to first: critical, can, nautilus, etc, nearest, dimensions, ivanova, migrating,\n",
      "Nearest to on: act, paramount, footnotes, help, adverse, members, aam, bjp,\n",
      "Nearest to and: filmography, illuminated, popular, term, washing, tulip, bjp, frequencies,\n",
      "Nearest to who: colloquially, illustrated, signing, anti, gnasher, chicago, saints, method,\n",
      "Nearest to no: kircher, allegorically, whatever, maeshowe, dimensions, obj, share, weblog,\n",
      "Nearest to road: based, confirms, slaves, playing, leave, crests, rhubarb, pixel,\n",
      "Nearest to pressure: backup, cones, shaped, arabidopsis, strong, bar, tropical, humans,\n",
      "Nearest to marriage: entourage, legal, ambedkar, perched, agnostics, irons, costume, sweeps,\n",
      "Nearest to issue: creating, situations, conductor, kariba, dune, unto, loose, deuteronomy,\n",
      "Nearest to paris: contrasting, size, goths, cbc, appealed, agglomeration, we, ctus,\n",
      "Nearest to channel: remedied, fusional, newfound, adjoined, slogan, secaucus, regress, sundials,\n",
      "Nearest to orthodox: leave, realistic, numeration, pegmatite, keswick, syncretism, onyx, incident,\n",
      "Nearest to powers: feudal, maude, olive, informally, uncles, villain, nahin, update,\n",
      "Epoch 1/10 Iteration: 2100 Avg. Training loss: 4.9477 0.1967 sec/batch\n",
      "Epoch 1/10 Iteration: 2200 Avg. Training loss: 4.9254 0.1927 sec/batch\n",
      "Epoch 1/10 Iteration: 2300 Avg. Training loss: 4.8823 0.1941 sec/batch\n",
      "Epoch 1/10 Iteration: 2400 Avg. Training loss: 4.8505 0.1948 sec/batch\n",
      "Epoch 1/10 Iteration: 2500 Avg. Training loss: 4.8000 0.1919 sec/batch\n",
      "Epoch 1/10 Iteration: 2600 Avg. Training loss: 4.8136 0.2006 sec/batch\n",
      "Epoch 1/10 Iteration: 2700 Avg. Training loss: 4.8047 0.1952 sec/batch\n",
      "Epoch 1/10 Iteration: 2800 Avg. Training loss: 4.7895 0.1946 sec/batch\n",
      "Epoch 1/10 Iteration: 2900 Avg. Training loss: 4.7994 0.1945 sec/batch\n",
      "Epoch 1/10 Iteration: 3000 Avg. Training loss: 4.7913 0.1955 sec/batch\n",
      "Nearest to they: structured, offices, informatique, weaker, that, spongy, cf, wealth,\n",
      "Nearest to if: emulating, catalonia, major, started, painted, kerosene, bomber, apsaras,\n",
      "Nearest to many: disagreement, family, seeing, cpus, true, prudent, tammuz, shattered,\n",
      "Nearest to first: critical, migrating, nautilus, nearest, uniformly, associations, pashtunistan, recipient,\n",
      "Nearest to on: paramount, act, adverse, jin, apogee, footnotes, indictment, members,\n",
      "Nearest to and: filmography, indirectly, illuminated, frequencies, tulip, washing, identities, customs,\n",
      "Nearest to who: colloquially, anti, signing, illustrated, gnasher, chicago, defence, disenchanted,\n",
      "Nearest to no: kircher, allegorically, share, obj, maeshowe, whatever, attain, tourism,\n",
      "Nearest to road: based, confirms, slaves, fax, playing, rhubarb, leave, commemorates,\n",
      "Nearest to pressure: cones, backup, collecting, tropical, arabidopsis, shaped, strong, bar,\n",
      "Nearest to marriage: entourage, legal, ambedkar, perched, agnostics, irons, costume, holstein,\n",
      "Nearest to issue: creating, conductor, dune, unto, situations, kariba, loose, pythons,\n",
      "Nearest to paris: contrasting, goths, philippe, size, cbc, aggregates, appealed, monarch,\n",
      "Nearest to channel: remedied, fusional, newfound, nato, slogan, adjoined, sundials, secaucus,\n",
      "Nearest to orthodox: leave, onyx, realistic, kj, keswick, numeration, incident, physician,\n",
      "Nearest to powers: feudal, maude, uncles, olive, informally, nahin, caucasian, villain,\n",
      "Epoch 1/10 Iteration: 3100 Avg. Training loss: 4.7723 0.2104 sec/batch\n",
      "Epoch 1/10 Iteration: 3200 Avg. Training loss: 4.7442 0.2033 sec/batch\n",
      "Epoch 1/10 Iteration: 3300 Avg. Training loss: 4.7129 0.2100 sec/batch\n",
      "Epoch 1/10 Iteration: 3400 Avg. Training loss: 4.7052 0.1980 sec/batch\n",
      "Epoch 1/10 Iteration: 3500 Avg. Training loss: 4.7570 0.1976 sec/batch\n",
      "Epoch 1/10 Iteration: 3600 Avg. Training loss: 4.6931 0.2001 sec/batch\n",
      "Epoch 1/10 Iteration: 3700 Avg. Training loss: 4.7174 0.2041 sec/batch\n",
      "Epoch 1/10 Iteration: 3800 Avg. Training loss: 4.7148 0.1987 sec/batch\n",
      "Epoch 1/10 Iteration: 3900 Avg. Training loss: 4.6862 0.1993 sec/batch\n",
      "Epoch 1/10 Iteration: 4000 Avg. Training loss: 4.6346 0.2001 sec/batch\n",
      "Nearest to they: structured, informatique, weaker, spongy, offices, that, cf, zquez,\n",
      "Nearest to if: emulating, catalonia, started, expletive, painted, fab, major, apsaras,\n",
      "Nearest to many: disagreement, family, cpus, seeing, tammuz, prudent, true, mahajanapadas,\n",
      "Nearest to first: critical, migrating, nautilus, uniformly, coulter, ivanova, notochord, entertainer,\n",
      "Nearest to on: paramount, indictment, apogee, andrewes, profiling, scanlines, act, caracas,\n",
      "Nearest to and: filmography, indirectly, tulip, customs, henson, illuminated, tournaments, bjp,\n",
      "Nearest to who: anti, colloquially, signing, gnasher, disenchanted, illustrated, chicago, marches,\n",
      "Nearest to no: allegorically, kircher, obj, maeshowe, cummins, whatever, attain, rsdlp,\n",
      "Nearest to road: based, confirms, slaves, commemorates, worships, fondness, fax, rhubarb,\n",
      "Nearest to pressure: collecting, cones, arabidopsis, backup, tropical, strong, philipp, nonetheless,\n",
      "Nearest to marriage: entourage, legal, ambedkar, perched, agnostics, costume, holstein, strove,\n",
      "Nearest to issue: kariba, creating, dune, pythons, unto, situations, mathews, deuteronomy,\n",
      "Nearest to paris: philippe, goths, contrasting, cbc, critic, appalling, orr, outnumber,\n",
      "Nearest to channel: remedied, fusional, newfound, sundials, slogan, adjoined, nato, habitats,\n",
      "Nearest to orthodox: leave, onyx, keswick, syncretism, numeration, kj, realistic, jurists,\n",
      "Nearest to powers: feudal, maude, uncles, olive, informally, nahin, vacuoles, appending,\n"
     ]
    },
    {
     "name": "stdout",
     "output_type": "stream",
     "text": [
      "Epoch 1/10 Iteration: 4100 Avg. Training loss: 4.6748 0.2129 sec/batch\n",
      "Epoch 1/10 Iteration: 4200 Avg. Training loss: 4.6625 0.2055 sec/batch\n",
      "Epoch 1/10 Iteration: 4300 Avg. Training loss: 4.6335 0.1991 sec/batch\n",
      "Epoch 1/10 Iteration: 4400 Avg. Training loss: 4.6213 0.2018 sec/batch\n",
      "Epoch 1/10 Iteration: 4500 Avg. Training loss: 4.6461 0.1996 sec/batch\n",
      "Epoch 1/10 Iteration: 4600 Avg. Training loss: 4.6101 0.2005 sec/batch\n",
      "Epoch 2/10 Iteration: 4700 Avg. Training loss: 4.6153 0.1418 sec/batch\n",
      "Epoch 2/10 Iteration: 4800 Avg. Training loss: 4.5595 0.2041 sec/batch\n",
      "Epoch 2/10 Iteration: 4900 Avg. Training loss: 4.5306 0.2028 sec/batch\n",
      "Epoch 2/10 Iteration: 5000 Avg. Training loss: 4.5144 0.2030 sec/batch\n",
      "Nearest to they: weaker, structured, that, informatique, spongy, someone, zquez, ouaddai,\n",
      "Nearest to if: emulating, catalonia, defined, sampled, expletive, painted, apsaras, earns,\n",
      "Nearest to many: disagreement, seeing, family, tammuz, cpus, true, prudent, prophesied,\n",
      "Nearest to first: critical, coulter, notochord, situational, migrating, nautilus, resignation, ivanova,\n",
      "Nearest to on: apogee, andrewes, branca, backs, launcher, profiling, polarization, paramount,\n",
      "Nearest to and: filmography, tulip, indirectly, customs, nude, henson, odham, proxy,\n",
      "Nearest to who: colloquially, anti, signing, gnasher, disenchanted, marches, defence, theosophical,\n",
      "Nearest to no: allegorically, obj, maeshowe, kircher, cummins, rsdlp, forint, share,\n",
      "Nearest to road: based, confirms, commemorates, slaves, metalloids, crests, pixel, rhubarb,\n",
      "Nearest to pressure: collecting, cones, arabidopsis, diazonium, tropical, backup, strong, shaped,\n",
      "Nearest to marriage: entourage, legal, ambedkar, perched, agnostics, holstein, dissatisfaction, costume,\n",
      "Nearest to issue: kariba, pythons, creating, dune, mathews, holies, iraqi, benz,\n",
      "Nearest to paris: philippe, goths, critic, orr, entomology, prostration, ctus, appalling,\n",
      "Nearest to channel: remedied, fusional, adjoined, sundials, mafalda, newfound, habitats, slogan,\n",
      "Nearest to orthodox: leave, keswick, caan, syncretism, numeration, yeti, bragging, onyx,\n",
      "Nearest to powers: feudal, maude, uncles, olive, informally, faunus, vacuoles, conscript,\n",
      "Epoch 2/10 Iteration: 5100 Avg. Training loss: 4.4881 0.2049 sec/batch\n",
      "Epoch 2/10 Iteration: 5200 Avg. Training loss: 4.4736 0.2030 sec/batch\n",
      "Epoch 2/10 Iteration: 5300 Avg. Training loss: 4.4664 0.2026 sec/batch\n",
      "Epoch 2/10 Iteration: 5400 Avg. Training loss: 4.5214 0.2020 sec/batch\n",
      "Epoch 2/10 Iteration: 5500 Avg. Training loss: 4.5145 0.2035 sec/batch\n",
      "Epoch 2/10 Iteration: 5600 Avg. Training loss: 4.4451 0.2141 sec/batch\n"
     ]
    },
    {
     "ename": "KeyboardInterrupt",
     "evalue": "",
     "output_type": "error",
     "traceback": [
      "\u001b[0;31m---------------------------------------------------------------------------\u001b[0m",
      "\u001b[0;31mKeyboardInterrupt\u001b[0m                         Traceback (most recent call last)",
      "\u001b[0;32m<ipython-input-285-0d2394280813>\u001b[0m in \u001b[0;36m<module>\u001b[0;34m()\u001b[0m\n\u001b[1;32m     18\u001b[0m             feed = {inputs: x,\n\u001b[1;32m     19\u001b[0m                     labels: np.array(y)[:, None]}\n\u001b[0;32m---> 20\u001b[0;31m             \u001b[0mtrain_loss\u001b[0m\u001b[0;34m,\u001b[0m \u001b[0m_\u001b[0m \u001b[0;34m=\u001b[0m \u001b[0msess\u001b[0m\u001b[0;34m.\u001b[0m\u001b[0mrun\u001b[0m\u001b[0;34m(\u001b[0m\u001b[0;34m[\u001b[0m\u001b[0mcost\u001b[0m\u001b[0;34m,\u001b[0m \u001b[0moptimizer\u001b[0m\u001b[0;34m]\u001b[0m\u001b[0;34m,\u001b[0m \u001b[0mfeed_dict\u001b[0m\u001b[0;34m=\u001b[0m\u001b[0mfeed\u001b[0m\u001b[0;34m)\u001b[0m\u001b[0;34m\u001b[0m\u001b[0m\n\u001b[0m\u001b[1;32m     21\u001b[0m \u001b[0;34m\u001b[0m\u001b[0m\n\u001b[1;32m     22\u001b[0m             \u001b[0mloss\u001b[0m \u001b[0;34m+=\u001b[0m \u001b[0mtrain_loss\u001b[0m\u001b[0;34m\u001b[0m\u001b[0m\n",
      "\u001b[0;32m/Applications/anaconda3/lib/python3.6/site-packages/tensorflow/python/client/session.py\u001b[0m in \u001b[0;36mrun\u001b[0;34m(self, fetches, feed_dict, options, run_metadata)\u001b[0m\n\u001b[1;32m    927\u001b[0m     \u001b[0;32mtry\u001b[0m\u001b[0;34m:\u001b[0m\u001b[0;34m\u001b[0m\u001b[0m\n\u001b[1;32m    928\u001b[0m       result = self._run(None, fetches, feed_dict, options_ptr,\n\u001b[0;32m--> 929\u001b[0;31m                          run_metadata_ptr)\n\u001b[0m\u001b[1;32m    930\u001b[0m       \u001b[0;32mif\u001b[0m \u001b[0mrun_metadata\u001b[0m\u001b[0;34m:\u001b[0m\u001b[0;34m\u001b[0m\u001b[0m\n\u001b[1;32m    931\u001b[0m         \u001b[0mproto_data\u001b[0m \u001b[0;34m=\u001b[0m \u001b[0mtf_session\u001b[0m\u001b[0;34m.\u001b[0m\u001b[0mTF_GetBuffer\u001b[0m\u001b[0;34m(\u001b[0m\u001b[0mrun_metadata_ptr\u001b[0m\u001b[0;34m)\u001b[0m\u001b[0;34m\u001b[0m\u001b[0m\n",
      "\u001b[0;32m/Applications/anaconda3/lib/python3.6/site-packages/tensorflow/python/client/session.py\u001b[0m in \u001b[0;36m_run\u001b[0;34m(self, handle, fetches, feed_dict, options, run_metadata)\u001b[0m\n\u001b[1;32m   1150\u001b[0m     \u001b[0;32mif\u001b[0m \u001b[0mfinal_fetches\u001b[0m \u001b[0;32mor\u001b[0m \u001b[0mfinal_targets\u001b[0m \u001b[0;32mor\u001b[0m \u001b[0;34m(\u001b[0m\u001b[0mhandle\u001b[0m \u001b[0;32mand\u001b[0m \u001b[0mfeed_dict_tensor\u001b[0m\u001b[0;34m)\u001b[0m\u001b[0;34m:\u001b[0m\u001b[0;34m\u001b[0m\u001b[0m\n\u001b[1;32m   1151\u001b[0m       results = self._do_run(handle, final_targets, final_fetches,\n\u001b[0;32m-> 1152\u001b[0;31m                              feed_dict_tensor, options, run_metadata)\n\u001b[0m\u001b[1;32m   1153\u001b[0m     \u001b[0;32melse\u001b[0m\u001b[0;34m:\u001b[0m\u001b[0;34m\u001b[0m\u001b[0m\n\u001b[1;32m   1154\u001b[0m       \u001b[0mresults\u001b[0m \u001b[0;34m=\u001b[0m \u001b[0;34m[\u001b[0m\u001b[0;34m]\u001b[0m\u001b[0;34m\u001b[0m\u001b[0m\n",
      "\u001b[0;32m/Applications/anaconda3/lib/python3.6/site-packages/tensorflow/python/client/session.py\u001b[0m in \u001b[0;36m_do_run\u001b[0;34m(self, handle, target_list, fetch_list, feed_dict, options, run_metadata)\u001b[0m\n\u001b[1;32m   1326\u001b[0m     \u001b[0;32mif\u001b[0m \u001b[0mhandle\u001b[0m \u001b[0;32mis\u001b[0m \u001b[0;32mNone\u001b[0m\u001b[0;34m:\u001b[0m\u001b[0;34m\u001b[0m\u001b[0m\n\u001b[1;32m   1327\u001b[0m       return self._do_call(_run_fn, feeds, fetches, targets, options,\n\u001b[0;32m-> 1328\u001b[0;31m                            run_metadata)\n\u001b[0m\u001b[1;32m   1329\u001b[0m     \u001b[0;32melse\u001b[0m\u001b[0;34m:\u001b[0m\u001b[0;34m\u001b[0m\u001b[0m\n\u001b[1;32m   1330\u001b[0m       \u001b[0;32mreturn\u001b[0m \u001b[0mself\u001b[0m\u001b[0;34m.\u001b[0m\u001b[0m_do_call\u001b[0m\u001b[0;34m(\u001b[0m\u001b[0m_prun_fn\u001b[0m\u001b[0;34m,\u001b[0m \u001b[0mhandle\u001b[0m\u001b[0;34m,\u001b[0m \u001b[0mfeeds\u001b[0m\u001b[0;34m,\u001b[0m \u001b[0mfetches\u001b[0m\u001b[0;34m)\u001b[0m\u001b[0;34m\u001b[0m\u001b[0m\n",
      "\u001b[0;32m/Applications/anaconda3/lib/python3.6/site-packages/tensorflow/python/client/session.py\u001b[0m in \u001b[0;36m_do_call\u001b[0;34m(self, fn, *args)\u001b[0m\n\u001b[1;32m   1332\u001b[0m   \u001b[0;32mdef\u001b[0m \u001b[0m_do_call\u001b[0m\u001b[0;34m(\u001b[0m\u001b[0mself\u001b[0m\u001b[0;34m,\u001b[0m \u001b[0mfn\u001b[0m\u001b[0;34m,\u001b[0m \u001b[0;34m*\u001b[0m\u001b[0margs\u001b[0m\u001b[0;34m)\u001b[0m\u001b[0;34m:\u001b[0m\u001b[0;34m\u001b[0m\u001b[0m\n\u001b[1;32m   1333\u001b[0m     \u001b[0;32mtry\u001b[0m\u001b[0;34m:\u001b[0m\u001b[0;34m\u001b[0m\u001b[0m\n\u001b[0;32m-> 1334\u001b[0;31m       \u001b[0;32mreturn\u001b[0m \u001b[0mfn\u001b[0m\u001b[0;34m(\u001b[0m\u001b[0;34m*\u001b[0m\u001b[0margs\u001b[0m\u001b[0;34m)\u001b[0m\u001b[0;34m\u001b[0m\u001b[0m\n\u001b[0m\u001b[1;32m   1335\u001b[0m     \u001b[0;32mexcept\u001b[0m \u001b[0merrors\u001b[0m\u001b[0;34m.\u001b[0m\u001b[0mOpError\u001b[0m \u001b[0;32mas\u001b[0m \u001b[0me\u001b[0m\u001b[0;34m:\u001b[0m\u001b[0;34m\u001b[0m\u001b[0m\n\u001b[1;32m   1336\u001b[0m       \u001b[0mmessage\u001b[0m \u001b[0;34m=\u001b[0m \u001b[0mcompat\u001b[0m\u001b[0;34m.\u001b[0m\u001b[0mas_text\u001b[0m\u001b[0;34m(\u001b[0m\u001b[0me\u001b[0m\u001b[0;34m.\u001b[0m\u001b[0mmessage\u001b[0m\u001b[0;34m)\u001b[0m\u001b[0;34m\u001b[0m\u001b[0m\n",
      "\u001b[0;32m/Applications/anaconda3/lib/python3.6/site-packages/tensorflow/python/client/session.py\u001b[0m in \u001b[0;36m_run_fn\u001b[0;34m(feed_dict, fetch_list, target_list, options, run_metadata)\u001b[0m\n\u001b[1;32m   1317\u001b[0m       \u001b[0mself\u001b[0m\u001b[0;34m.\u001b[0m\u001b[0m_extend_graph\u001b[0m\u001b[0;34m(\u001b[0m\u001b[0;34m)\u001b[0m\u001b[0;34m\u001b[0m\u001b[0m\n\u001b[1;32m   1318\u001b[0m       return self._call_tf_sessionrun(\n\u001b[0;32m-> 1319\u001b[0;31m           options, feed_dict, fetch_list, target_list, run_metadata)\n\u001b[0m\u001b[1;32m   1320\u001b[0m \u001b[0;34m\u001b[0m\u001b[0m\n\u001b[1;32m   1321\u001b[0m     \u001b[0;32mdef\u001b[0m \u001b[0m_prun_fn\u001b[0m\u001b[0;34m(\u001b[0m\u001b[0mhandle\u001b[0m\u001b[0;34m,\u001b[0m \u001b[0mfeed_dict\u001b[0m\u001b[0;34m,\u001b[0m \u001b[0mfetch_list\u001b[0m\u001b[0;34m)\u001b[0m\u001b[0;34m:\u001b[0m\u001b[0;34m\u001b[0m\u001b[0m\n",
      "\u001b[0;32m/Applications/anaconda3/lib/python3.6/site-packages/tensorflow/python/client/session.py\u001b[0m in \u001b[0;36m_call_tf_sessionrun\u001b[0;34m(self, options, feed_dict, fetch_list, target_list, run_metadata)\u001b[0m\n\u001b[1;32m   1405\u001b[0m     return tf_session.TF_SessionRun_wrapper(\n\u001b[1;32m   1406\u001b[0m         \u001b[0mself\u001b[0m\u001b[0;34m.\u001b[0m\u001b[0m_session\u001b[0m\u001b[0;34m,\u001b[0m \u001b[0moptions\u001b[0m\u001b[0;34m,\u001b[0m \u001b[0mfeed_dict\u001b[0m\u001b[0;34m,\u001b[0m \u001b[0mfetch_list\u001b[0m\u001b[0;34m,\u001b[0m \u001b[0mtarget_list\u001b[0m\u001b[0;34m,\u001b[0m\u001b[0;34m\u001b[0m\u001b[0m\n\u001b[0;32m-> 1407\u001b[0;31m         run_metadata)\n\u001b[0m\u001b[1;32m   1408\u001b[0m \u001b[0;34m\u001b[0m\u001b[0m\n\u001b[1;32m   1409\u001b[0m   \u001b[0;32mdef\u001b[0m \u001b[0m_call_tf_sessionprun\u001b[0m\u001b[0;34m(\u001b[0m\u001b[0mself\u001b[0m\u001b[0;34m,\u001b[0m \u001b[0mhandle\u001b[0m\u001b[0;34m,\u001b[0m \u001b[0mfeed_dict\u001b[0m\u001b[0;34m,\u001b[0m \u001b[0mfetch_list\u001b[0m\u001b[0;34m)\u001b[0m\u001b[0;34m:\u001b[0m\u001b[0;34m\u001b[0m\u001b[0m\n",
      "\u001b[0;31mKeyboardInterrupt\u001b[0m: "
     ]
    }
   ],
   "source": [
    "epochs = 10\n",
    "batch_size = 1000\n",
    "window_size = 10\n",
    "\n",
    "with train_graph.as_default():\n",
    "    saver = tf.train.Saver()\n",
    "\n",
    "with tf.Session(graph=train_graph) as sess:\n",
    "    iteration = 1\n",
    "    loss = 0\n",
    "    sess.run(tf.global_variables_initializer())\n",
    "\n",
    "    for e in range(1, epochs+1):\n",
    "        batches = get_batches(train_words, batch_size, window_size)   \n",
    "        start = time.time()\n",
    "        for x, y in batches:\n",
    "        \n",
    "            feed = {inputs: x,\n",
    "                    labels: np.array(y)[:, None]}\n",
    "            train_loss, _ = sess.run([cost, optimizer], feed_dict=feed)\n",
    "            \n",
    "            loss += train_loss\n",
    "            \n",
    "            \n",
    "            if iteration % 100 == 0: \n",
    "                end = time.time()\n",
    "                print(\"Epoch {}/{}\".format(e, epochs),\n",
    "                      \"Iteration: {}\".format(iteration),\n",
    "                      \"Avg. Training loss: {:.4f}\".format(loss/100),\n",
    "                      \"{:.4f} sec/batch\".format((end-start)/100))\n",
    "                loss = 0\n",
    "                start = time.time()\n",
    "            \n",
    "            if iteration % 1000 == 0:\n",
    "                ## From Thushan Ganegedara's implementation\n",
    "                # note that this is expensive (~20% slowdown if computed every 500 steps)\n",
    "                sim = similarity.eval()\n",
    "                for i in range(valid_size):\n",
    "                    valid_word = int_to_vocab[valid_examples[i]]\n",
    "                    top_k = 8 # number of nearest neighbors\n",
    "                    nearest = (-sim[i, :]).argsort()[1:top_k+1]\n",
    "                    log = 'Nearest to %s:' % valid_word\n",
    "                    for k in range(top_k):\n",
    "                        close_word = int_to_vocab[nearest[k]]\n",
    "                        log = '%s %s,' % (log, close_word)\n",
    "                    print(log)\n",
    "            \n",
    "            iteration += 1\n",
    "    save_path = saver.save(sess, \"checkpoints/text8.ckpt\")\n",
    "    embed_mat = sess.run(normalized_embedding)"
   ]
  },
  {
   "cell_type": "markdown",
   "metadata": {},
   "source": [
    "Restore the trained network if you need to:"
   ]
  },
  {
   "cell_type": "code",
   "execution_count": null,
   "metadata": {},
   "outputs": [],
   "source": [
    "with train_graph.as_default():\n",
    "    saver = tf.train.Saver()\n",
    "\n",
    "with tf.Session(graph=train_graph) as sess:\n",
    "    saver.restore(sess, tf.train.latest_checkpoint('checkpoints'))\n",
    "    embed_mat = sess.run(embedding)"
   ]
  },
  {
   "cell_type": "markdown",
   "metadata": {},
   "source": [
    "## Visualizing the word vectors\n",
    "\n",
    "Below we'll use T-SNE to visualize how our high-dimensional word vectors cluster together. T-SNE is used to project these vectors into two dimensions while preserving local stucture. Check out [this post from Christopher Olah](http://colah.github.io/posts/2014-10-Visualizing-MNIST/) to learn more about T-SNE and other ways to visualize high-dimensional data."
   ]
  },
  {
   "cell_type": "code",
   "execution_count": null,
   "metadata": {},
   "outputs": [],
   "source": [
    "%matplotlib inline\n",
    "%config InlineBackend.figure_format = 'retina'\n",
    "\n",
    "import matplotlib.pyplot as plt\n",
    "from sklearn.manifold import TSNE"
   ]
  },
  {
   "cell_type": "code",
   "execution_count": null,
   "metadata": {},
   "outputs": [],
   "source": [
    "viz_words = 500\n",
    "tsne = TSNE()\n",
    "embed_tsne = tsne.fit_transform(embed_mat[:viz_words, :])"
   ]
  },
  {
   "cell_type": "code",
   "execution_count": null,
   "metadata": {},
   "outputs": [],
   "source": [
    "fig, ax = plt.subplots(figsize=(14, 14))\n",
    "for idx in range(viz_words):\n",
    "    plt.scatter(*embed_tsne[idx, :], color='steelblue')\n",
    "    plt.annotate(int_to_vocab[idx], (embed_tsne[idx, 0], embed_tsne[idx, 1]), alpha=0.7)"
   ]
  }
 ],
 "metadata": {
  "kernelspec": {
   "display_name": "Python 3",
   "language": "python",
   "name": "python3"
  },
  "language_info": {
   "codemirror_mode": {
    "name": "ipython",
    "version": 3
   },
   "file_extension": ".py",
   "mimetype": "text/x-python",
   "name": "python",
   "nbconvert_exporter": "python",
   "pygments_lexer": "ipython3",
   "version": "3.6.5"
  }
 },
 "nbformat": 4,
 "nbformat_minor": 2
}
