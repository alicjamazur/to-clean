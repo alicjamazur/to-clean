{
 "cells": [
  {
   "cell_type": "markdown",
   "metadata": {},
   "source": [
    "## Load Data from CSVs"
   ]
  },
  {
   "cell_type": "code",
   "execution_count": 52,
   "metadata": {},
   "outputs": [],
   "source": [
    "import unicodecsv\n",
    "\n",
    "## Longer version of code (replaced with shorter, equivalent version below)\n",
    "\n",
    "# enrollments = []\n",
    "# f = open('enrollments.csv', 'rb')\n",
    "# reader = unicodecsv.DictReader(f)\n",
    "# for row in reader:\n",
    "#     enrollments.append(row)\n",
    "# f.close()\n",
    "\n",
    "with open('enrollments.csv', 'rb') as f:\n",
    "    reader = unicodecsv.DictReader(f)\n",
    "    enrollments = list(reader)"
   ]
  },
  {
   "cell_type": "code",
   "execution_count": 53,
   "metadata": {},
   "outputs": [],
   "source": [
    "#####################################\n",
    "#                 1                 #\n",
    "#####################################\n",
    "\n",
    "## Read in the data from daily_engagement.csv and project_submissions.csv \n",
    "## and store the results in the below variables.\n",
    "## Then look at the first row of each table.\n",
    "\n",
    "with open('daily_engagement.csv', 'rb') as f:\n",
    "    reader = unicodecsv.DictReader(f)\n",
    "    daily_engagement = list(reader)\n",
    "\n",
    "with open('project_submissions.csv', 'rb') as f:\n",
    "    reader = unicodecsv.DictReader(f)\n",
    "    project_submissions = list(reader)"
   ]
  },
  {
   "cell_type": "markdown",
   "metadata": {},
   "source": [
    "## Fixing Data Types"
   ]
  },
  {
   "cell_type": "code",
   "execution_count": 54,
   "metadata": {},
   "outputs": [
    {
     "data": {
      "text/plain": [
       "OrderedDict([('acct', '0'),\n",
       "             ('utc_date', '2015-01-09'),\n",
       "             ('num_courses_visited', '1.0'),\n",
       "             ('total_minutes_visited', '11.6793745'),\n",
       "             ('lessons_completed', '0.0'),\n",
       "             ('projects_completed', '0.0')])"
      ]
     },
     "execution_count": 54,
     "metadata": {},
     "output_type": "execute_result"
    }
   ],
   "source": [
    "daily_engagement[0]"
   ]
  },
  {
   "cell_type": "code",
   "execution_count": 55,
   "metadata": {},
   "outputs": [
    {
     "data": {
      "text/plain": [
       "OrderedDict([('creation_date', '2015-01-14'),\n",
       "             ('completion_date', '2015-01-16'),\n",
       "             ('assigned_rating', 'UNGRADED'),\n",
       "             ('account_key', '256'),\n",
       "             ('lesson_key', '3176718735'),\n",
       "             ('processing_state', 'EVALUATED')])"
      ]
     },
     "execution_count": 55,
     "metadata": {},
     "output_type": "execute_result"
    }
   ],
   "source": [
    "project_submissions[0]"
   ]
  },
  {
   "cell_type": "code",
   "execution_count": 56,
   "metadata": {},
   "outputs": [
    {
     "data": {
      "text/plain": [
       "OrderedDict([('account_key', '448'),\n",
       "             ('status', 'canceled'),\n",
       "             ('join_date', datetime.datetime(2014, 11, 10, 0, 0)),\n",
       "             ('cancel_date', datetime.datetime(2015, 1, 14, 0, 0)),\n",
       "             ('days_to_cancel', 65),\n",
       "             ('is_udacity', True),\n",
       "             ('is_canceled', True)])"
      ]
     },
     "execution_count": 56,
     "metadata": {},
     "output_type": "execute_result"
    }
   ],
   "source": [
    "from datetime import datetime as dt\n",
    "\n",
    "# Takes a date as a string, and returns a Python datetime object. \n",
    "# If there is no date given, returns None\n",
    "def parse_date(date):\n",
    "    if date == '':\n",
    "        return None\n",
    "    else:\n",
    "        return dt.strptime(date, '%Y-%m-%d')\n",
    "    \n",
    "# Takes a string which is either an empty string or represents an integer,\n",
    "# and returns an int or None.\n",
    "def parse_maybe_int(i):\n",
    "    if i == '':\n",
    "        return None\n",
    "    else:\n",
    "        return int(i)\n",
    "\n",
    "# Clean up the data types in the enrollments table\n",
    "for enrollment in enrollments:\n",
    "    enrollment['cancel_date'] = parse_date(enrollment['cancel_date'])\n",
    "    enrollment['days_to_cancel'] = parse_maybe_int(enrollment['days_to_cancel'])\n",
    "    enrollment['is_canceled'] = enrollment['is_canceled'] == 'True'\n",
    "    enrollment['is_udacity'] = enrollment['is_udacity'] == 'True'\n",
    "    enrollment['join_date'] = parse_date(enrollment['join_date'])\n",
    "    \n",
    "enrollments[0]"
   ]
  },
  {
   "cell_type": "code",
   "execution_count": 57,
   "metadata": {},
   "outputs": [
    {
     "data": {
      "text/plain": [
       "OrderedDict([('acct', '0'),\n",
       "             ('utc_date', datetime.datetime(2015, 1, 9, 0, 0)),\n",
       "             ('num_courses_visited', 1),\n",
       "             ('total_minutes_visited', 11.6793745),\n",
       "             ('lessons_completed', 0),\n",
       "             ('projects_completed', 0)])"
      ]
     },
     "execution_count": 57,
     "metadata": {},
     "output_type": "execute_result"
    }
   ],
   "source": [
    "# Clean up the data types in the engagement table\n",
    "for engagement_record in daily_engagement:\n",
    "    engagement_record['lessons_completed'] = int(float(engagement_record['lessons_completed']))\n",
    "    engagement_record['num_courses_visited'] = int(float(engagement_record['num_courses_visited']))\n",
    "    engagement_record['projects_completed'] = int(float(engagement_record['projects_completed']))\n",
    "    engagement_record['total_minutes_visited'] = float(engagement_record['total_minutes_visited'])\n",
    "    engagement_record['utc_date'] = parse_date(engagement_record['utc_date'])\n",
    "    \n",
    "daily_engagement[0]"
   ]
  },
  {
   "cell_type": "code",
   "execution_count": 58,
   "metadata": {},
   "outputs": [
    {
     "data": {
      "text/plain": [
       "OrderedDict([('creation_date', datetime.datetime(2015, 1, 14, 0, 0)),\n",
       "             ('completion_date', datetime.datetime(2015, 1, 16, 0, 0)),\n",
       "             ('assigned_rating', 'UNGRADED'),\n",
       "             ('account_key', '256'),\n",
       "             ('lesson_key', '3176718735'),\n",
       "             ('processing_state', 'EVALUATED')])"
      ]
     },
     "execution_count": 58,
     "metadata": {},
     "output_type": "execute_result"
    }
   ],
   "source": [
    "# Clean up the data types in the submissions table\n",
    "for submission in project_submissions:\n",
    "    submission['completion_date'] = parse_date(submission['completion_date'])\n",
    "    submission['creation_date'] = parse_date(submission['creation_date'])\n",
    "\n",
    "project_submissions[0]"
   ]
  },
  {
   "cell_type": "markdown",
   "metadata": {},
   "source": [
    "## Investigating the Data"
   ]
  },
  {
   "cell_type": "code",
   "execution_count": 59,
   "metadata": {},
   "outputs": [
    {
     "name": "stdout",
     "output_type": "stream",
     "text": [
      "Total number of rows 1640\n",
      "Number of unique students 1302\n"
     ]
    }
   ],
   "source": [
    "#####################################\n",
    "#                 2                 #\n",
    "#####################################\n",
    "\n",
    "## Find the total number of rows and the number of unique students (account keys)\n",
    "## in each table.\n",
    "\n",
    "print('Total number of rows', len(enrollments))\n",
    "\n",
    "s_enrollments = set()\n",
    "\n",
    "for elem in enrollments:\n",
    "    s_enrollments.add(elem['account_key'])\n",
    "\n",
    "print('Number of unique students', len(s_enrollments))"
   ]
  },
  {
   "cell_type": "code",
   "execution_count": 60,
   "metadata": {},
   "outputs": [
    {
     "name": "stdout",
     "output_type": "stream",
     "text": [
      "engagement_num_rows 136240\n",
      "engagement_num_unique_students 1237\n"
     ]
    }
   ],
   "source": [
    "s_daily_engagement = set()\n",
    "for each in daily_engagement:\n",
    "    s_daily_engagement.add(each['acct'])\n",
    "    \n",
    "engagement_num_rows = len(daily_engagement)           \n",
    "engagement_num_unique_students = len(s_daily_engagement)\n",
    "\n",
    "print('engagement_num_rows', engagement_num_rows)\n",
    "print('engagement_num_unique_students', engagement_num_unique_students)"
   ]
  },
  {
   "cell_type": "code",
   "execution_count": 61,
   "metadata": {},
   "outputs": [
    {
     "name": "stdout",
     "output_type": "stream",
     "text": [
      "submission_num_rows 3642\n",
      "submission_num_unique_students 743\n"
     ]
    }
   ],
   "source": [
    "s_project_submissions = set()\n",
    "for cada in project_submissions:\n",
    "    s_project_submissions.add(cada['account_key'])\n",
    "    \n",
    "submission_num_rows = len(project_submissions)           \n",
    "submission_num_unique_students = len(s_project_submissions)  \n",
    "\n",
    "print('submission_num_rows', submission_num_rows)\n",
    "print('submission_num_unique_students', submission_num_unique_students)"
   ]
  },
  {
   "cell_type": "code",
   "execution_count": 62,
   "metadata": {},
   "outputs": [
    {
     "data": {
      "text/plain": [
       "'0'"
      ]
     },
     "execution_count": 62,
     "metadata": {},
     "output_type": "execute_result"
    }
   ],
   "source": [
    "daily_engagement[0]['acct']"
   ]
  },
  {
   "cell_type": "markdown",
   "metadata": {},
   "source": [
    "## Problems in the Data"
   ]
  },
  {
   "cell_type": "code",
   "execution_count": 63,
   "metadata": {},
   "outputs": [],
   "source": [
    "#####################################\n",
    "#                 3                 #\n",
    "#####################################\n",
    "\n",
    "## Rename the \"acct\" column in the daily_engagement table to \"account_key\".\n",
    "\n",
    "for each in daily_engagement:\n",
    "    each['account_key'] = each['acct']\n",
    "    del each['acct']"
   ]
  },
  {
   "cell_type": "code",
   "execution_count": 64,
   "metadata": {},
   "outputs": [
    {
     "name": "stdout",
     "output_type": "stream",
     "text": [
      "0\n"
     ]
    }
   ],
   "source": [
    "print(daily_engagement[0]['account_key'])"
   ]
  },
  {
   "cell_type": "code",
   "execution_count": 65,
   "metadata": {},
   "outputs": [],
   "source": [
    "def get_unique_students(data):\n",
    "    unique_students = set()\n",
    "    for data_point in data:\n",
    "        unique_students.add(data_point['account_key'])\n",
    "    return unique_students"
   ]
  },
  {
   "cell_type": "code",
   "execution_count": 66,
   "metadata": {},
   "outputs": [
    {
     "data": {
      "text/plain": [
       "1640"
      ]
     },
     "execution_count": 66,
     "metadata": {},
     "output_type": "execute_result"
    }
   ],
   "source": [
    "len(enrollments)"
   ]
  },
  {
   "cell_type": "code",
   "execution_count": 67,
   "metadata": {},
   "outputs": [
    {
     "data": {
      "text/plain": [
       "1302"
      ]
     },
     "execution_count": 67,
     "metadata": {},
     "output_type": "execute_result"
    }
   ],
   "source": [
    "unique_enrolled_students = get_unique_students(enrollments)\n",
    "len(unique_enrolled_students)"
   ]
  },
  {
   "cell_type": "code",
   "execution_count": 68,
   "metadata": {},
   "outputs": [
    {
     "data": {
      "text/plain": [
       "136240"
      ]
     },
     "execution_count": 68,
     "metadata": {},
     "output_type": "execute_result"
    }
   ],
   "source": [
    "len(daily_engagement)"
   ]
  },
  {
   "cell_type": "code",
   "execution_count": 69,
   "metadata": {},
   "outputs": [
    {
     "data": {
      "text/plain": [
       "1237"
      ]
     },
     "execution_count": 69,
     "metadata": {},
     "output_type": "execute_result"
    }
   ],
   "source": [
    "unique_engagement_students = get_unique_students(daily_engagement)\n",
    "len(unique_engagement_students)"
   ]
  },
  {
   "cell_type": "code",
   "execution_count": 70,
   "metadata": {},
   "outputs": [
    {
     "data": {
      "text/plain": [
       "3642"
      ]
     },
     "execution_count": 70,
     "metadata": {},
     "output_type": "execute_result"
    }
   ],
   "source": [
    "len(project_submissions)"
   ]
  },
  {
   "cell_type": "code",
   "execution_count": 71,
   "metadata": {},
   "outputs": [
    {
     "data": {
      "text/plain": [
       "743"
      ]
     },
     "execution_count": 71,
     "metadata": {},
     "output_type": "execute_result"
    }
   ],
   "source": [
    "unique_project_submitters = get_unique_students(project_submissions)\n",
    "len(unique_project_submitters)"
   ]
  },
  {
   "cell_type": "markdown",
   "metadata": {},
   "source": [
    "## Missing Engagement Records"
   ]
  },
  {
   "cell_type": "code",
   "execution_count": 72,
   "metadata": {},
   "outputs": [
    {
     "name": "stdout",
     "output_type": "stream",
     "text": [
      "OrderedDict([('account_key', '1219'), ('status', 'canceled'), ('join_date', datetime.datetime(2014, 11, 12, 0, 0)), ('cancel_date', datetime.datetime(2014, 11, 12, 0, 0)), ('days_to_cancel', 0), ('is_udacity', False), ('is_canceled', True)])\n",
      "OrderedDict([('account_key', '871'), ('status', 'canceled'), ('join_date', datetime.datetime(2014, 11, 13, 0, 0)), ('cancel_date', datetime.datetime(2014, 11, 13, 0, 0)), ('days_to_cancel', 0), ('is_udacity', False), ('is_canceled', True)])\n",
      "OrderedDict([('account_key', '1218'), ('status', 'canceled'), ('join_date', datetime.datetime(2014, 11, 15, 0, 0)), ('cancel_date', datetime.datetime(2014, 11, 15, 0, 0)), ('days_to_cancel', 0), ('is_udacity', False), ('is_canceled', True)])\n",
      "OrderedDict([('account_key', '654'), ('status', 'canceled'), ('join_date', datetime.datetime(2014, 12, 4, 0, 0)), ('cancel_date', datetime.datetime(2014, 12, 4, 0, 0)), ('days_to_cancel', 0), ('is_udacity', False), ('is_canceled', True)])\n",
      "OrderedDict([('account_key', '654'), ('status', 'canceled'), ('join_date', datetime.datetime(2014, 12, 4, 0, 0)), ('cancel_date', datetime.datetime(2014, 12, 4, 0, 0)), ('days_to_cancel', 0), ('is_udacity', False), ('is_canceled', True)])\n"
     ]
    }
   ],
   "source": [
    "#####################################\n",
    "#                 4                 #\n",
    "#####################################\n",
    "\n",
    "## Find any one student enrollments where the student is missing from the daily engagement table.\n",
    "## Output that enrollment.\n",
    "\n",
    "i = 0\n",
    "for enrollment in enrollments:\n",
    "    student = enrollment['account_key']\n",
    "    if i < 5:\n",
    "        if student not in unique_engagement_students:\n",
    "            print(enrollment)\n",
    "            i += 1"
   ]
  },
  {
   "cell_type": "markdown",
   "metadata": {},
   "source": [
    "## Checking for More Problem Records"
   ]
  },
  {
   "cell_type": "code",
   "execution_count": 73,
   "metadata": {},
   "outputs": [
    {
     "name": "stdout",
     "output_type": "stream",
     "text": [
      "OrderedDict([('account_key', '1304'), ('status', 'canceled'), ('join_date', datetime.datetime(2015, 1, 10, 0, 0)), ('cancel_date', datetime.datetime(2015, 3, 10, 0, 0)), ('days_to_cancel', 59), ('is_udacity', True), ('is_canceled', True)])\n",
      "OrderedDict([('account_key', '1304'), ('status', 'canceled'), ('join_date', datetime.datetime(2015, 3, 10, 0, 0)), ('cancel_date', datetime.datetime(2015, 6, 17, 0, 0)), ('days_to_cancel', 99), ('is_udacity', True), ('is_canceled', True)])\n",
      "OrderedDict([('account_key', '1101'), ('status', 'current'), ('join_date', datetime.datetime(2015, 2, 25, 0, 0)), ('cancel_date', None), ('days_to_cancel', None), ('is_udacity', True), ('is_canceled', False)])\n"
     ]
    }
   ],
   "source": [
    "#####################################\n",
    "#                 5                 #\n",
    "#####################################\n",
    "\n",
    "## Find the number of surprising data points (enrollments missing from\n",
    "## the engagement table) that remain, if any.\n",
    "\n",
    "for enrollment in enrollments:\n",
    "    student = enrollment['account_key']\n",
    "    if student not in unique_engagement_students and enrollment['join_date'] != enrollment['cancel_date']:\n",
    "        print(enrollment)"
   ]
  },
  {
   "cell_type": "markdown",
   "metadata": {},
   "source": [
    "## Tracking Down the Remaining Problems"
   ]
  },
  {
   "cell_type": "code",
   "execution_count": 74,
   "metadata": {},
   "outputs": [
    {
     "data": {
      "text/plain": [
       "6"
      ]
     },
     "execution_count": 74,
     "metadata": {},
     "output_type": "execute_result"
    }
   ],
   "source": [
    "# Create a set of the account keys for all Udacity test accounts\n",
    "udacity_test_accounts = set()\n",
    "for enrollment in enrollments:\n",
    "    if enrollment['is_udacity']:\n",
    "        udacity_test_accounts.add(enrollment['account_key'])\n",
    "len(udacity_test_accounts)"
   ]
  },
  {
   "cell_type": "code",
   "execution_count": 75,
   "metadata": {},
   "outputs": [],
   "source": [
    "# Given some data with an account_key field, removes any records corresponding to Udacity test accounts\n",
    "def remove_udacity_accounts(data):\n",
    "    non_udacity_data = []\n",
    "    for data_point in data:\n",
    "        if data_point['account_key'] not in udacity_test_accounts:\n",
    "            non_udacity_data.append(data_point)\n",
    "    return non_udacity_data"
   ]
  },
  {
   "cell_type": "code",
   "execution_count": 76,
   "metadata": {},
   "outputs": [
    {
     "name": "stdout",
     "output_type": "stream",
     "text": [
      "1622\n",
      "135656\n",
      "3634\n"
     ]
    }
   ],
   "source": [
    "# Remove Udacity test accounts from all three tables\n",
    "non_udacity_enrollments = remove_udacity_accounts(enrollments)\n",
    "non_udacity_engagement = remove_udacity_accounts(daily_engagement)\n",
    "non_udacity_submissions = remove_udacity_accounts(project_submissions)\n",
    "\n",
    "print(len(non_udacity_enrollments))\n",
    "print(len(non_udacity_engagement))\n",
    "print(len(non_udacity_submissions))"
   ]
  },
  {
   "cell_type": "markdown",
   "metadata": {},
   "source": [
    "## Refining the Question"
   ]
  },
  {
   "cell_type": "code",
   "execution_count": 77,
   "metadata": {},
   "outputs": [],
   "source": [
    "#####################################\n",
    "#                 6                 #\n",
    "#####################################\n",
    "\n",
    "## Create a dictionary named paid_students containing all students who either\n",
    "## haven't canceled yet or who remained enrolled for more than 7 days. The keys\n",
    "## should be account keys, and the values should be the date the student enrolled.\n",
    "\n",
    "paid_students = {}\n",
    "\n",
    "for enrollment in non_udacity_enrollments:\n",
    "    \n",
    "    if enrollment['days_to_cancel'] is None or enrollment['days_to_cancel'] > 7:\n",
    "        account_key = enrollment['account_key']\n",
    "        enrollment_date = enrollment['join_date']\n",
    "    \n",
    "        if account_key not in paid_students or enrollment_date > paid_students[account_key]:\n",
    "                paid_students[account_key] = enrollment['join_date']"
   ]
  },
  {
   "cell_type": "code",
   "execution_count": 78,
   "metadata": {},
   "outputs": [
    {
     "data": {
      "text/plain": [
       "995"
      ]
     },
     "execution_count": 78,
     "metadata": {},
     "output_type": "execute_result"
    }
   ],
   "source": [
    "len(paid_students)"
   ]
  },
  {
   "cell_type": "markdown",
   "metadata": {},
   "source": [
    "## Getting Data from First Week"
   ]
  },
  {
   "cell_type": "code",
   "execution_count": 79,
   "metadata": {},
   "outputs": [],
   "source": [
    "# Takes a student's join date and the date of a specific engagement record,\n",
    "# and returns True if that engagement record happened within one week\n",
    "# of the student joining.\n",
    "def within_one_week(join_date, engagement_date):\n",
    "    time_delta = engagement_date - join_date\n",
    "    return time_delta.days < 7 and time_delta.days >=0"
   ]
  },
  {
   "cell_type": "code",
   "execution_count": 80,
   "metadata": {},
   "outputs": [],
   "source": [
    "#####################################\n",
    "#                 7                 #\n",
    "#####################################\n",
    "\n",
    "## Create a list of rows from the engagement table including only rows where\n",
    "## the student is one of the paid students you just found, and the date is within\n",
    "## one week of the student's join date.\n",
    "\n",
    "paid_engagement_in_first_week = []\n",
    "\n",
    "for engagement in non_udacity_engagement:\n",
    "    \n",
    "    account_key = engagement['account_key']\n",
    "    \n",
    "    if account_key in paid_students:\n",
    "        join_date = paid_students[account_key]\n",
    "    \n",
    "        if within_one_week(join_date, engagement['utc_date']): \n",
    "            paid_engagement_in_first_week.append(engagement)"
   ]
  },
  {
   "cell_type": "code",
   "execution_count": 81,
   "metadata": {},
   "outputs": [
    {
     "data": {
      "text/plain": [
       "135656"
      ]
     },
     "execution_count": 81,
     "metadata": {},
     "output_type": "execute_result"
    }
   ],
   "source": [
    "len(non_udacity_engagement)"
   ]
  },
  {
   "cell_type": "code",
   "execution_count": 82,
   "metadata": {},
   "outputs": [
    {
     "data": {
      "text/plain": [
       "6919"
      ]
     },
     "execution_count": 82,
     "metadata": {},
     "output_type": "execute_result"
    }
   ],
   "source": [
    "len(paid_engagement_in_first_week)"
   ]
  },
  {
   "cell_type": "markdown",
   "metadata": {},
   "source": [
    "## Exploring Student Engagement"
   ]
  },
  {
   "cell_type": "code",
   "execution_count": 83,
   "metadata": {},
   "outputs": [],
   "source": [
    "from collections import defaultdict\n",
    "\n",
    "# Create a dictionary of engagement grouped by student.\n",
    "# The keys are account keys, and the values are lists of engagement records.\n",
    "engagement_by_account = defaultdict(list)\n",
    "for engagement_record in paid_engagement_in_first_week:\n",
    "    account_key = engagement_record['account_key']\n",
    "    engagement_by_account[account_key].append(engagement_record)"
   ]
  },
  {
   "cell_type": "code",
   "execution_count": 84,
   "metadata": {},
   "outputs": [],
   "source": [
    "# Create a dictionary with the total minutes each student spent in the classroom during the first week.\n",
    "# The keys are account keys, and the values are numbers (total minutes)\n",
    "total_minutes_by_account = {}\n",
    "for account_key, engagement_for_student in engagement_by_account.items():\n",
    "    total_minutes = 0\n",
    "    for engagement_record in engagement_for_student:\n",
    "        total_minutes += engagement_record['total_minutes_visited']\n",
    "    total_minutes_by_account[account_key] = total_minutes"
   ]
  },
  {
   "cell_type": "code",
   "execution_count": 85,
   "metadata": {},
   "outputs": [],
   "source": [
    "# Summarize the data about minutes spent in the classroom\n",
    "total_minutes = total_minutes_by_account.values()\n",
    "total_minutes = list(total_minutes)"
   ]
  },
  {
   "cell_type": "code",
   "execution_count": 86,
   "metadata": {},
   "outputs": [
    {
     "name": "stdout",
     "output_type": "stream",
     "text": [
      "Mean: 306.70832675342825\n",
      "Standard deviation: 412.99693340852957\n",
      "Minimum: 0.0\n",
      "Maximum: 3564.7332644989997\n"
     ]
    }
   ],
   "source": [
    "import numpy as np\n",
    "\n",
    "print('Mean:', np.mean(total_minutes))\n",
    "print('Standard deviation:', np.std(total_minutes))\n",
    "print('Minimum:', np.min(total_minutes))\n",
    "print('Maximum:', np.max(total_minutes))"
   ]
  },
  {
   "cell_type": "markdown",
   "metadata": {},
   "source": [
    "## Debugging Data Analysis Code"
   ]
  },
  {
   "cell_type": "code",
   "execution_count": 87,
   "metadata": {},
   "outputs": [
    {
     "name": "stdout",
     "output_type": "stream",
     "text": [
      "163\n"
     ]
    }
   ],
   "source": [
    "#####################################\n",
    "#                 8                 #\n",
    "#####################################\n",
    "\n",
    "## Go through a similar process as before to see if there is a problem.\n",
    "## Locate at least one surprising piece of data, output it, and take a look at it.\n",
    "\n",
    "for account_key in total_minutes_by_account:\n",
    "    if total_minutes_by_account[account_key] == np.max(total_minutes):\n",
    "        print(account_key)"
   ]
  },
  {
   "cell_type": "code",
   "execution_count": 88,
   "metadata": {},
   "outputs": [
    {
     "name": "stdout",
     "output_type": "stream",
     "text": [
      "850.519339666\n",
      "872.633923334\n",
      "777.018903666\n",
      "294.568774\n",
      "471.2139785\n",
      "298.778345333\n",
      "0.0\n"
     ]
    }
   ],
   "source": [
    "for each in engagement_by_account[\"163\"]:\n",
    "    print(each['total_minutes_visited'])"
   ]
  },
  {
   "cell_type": "code",
   "execution_count": 89,
   "metadata": {},
   "outputs": [
    {
     "name": "stdout",
     "output_type": "stream",
     "text": [
      "OrderedDict([('account_key', '108'), ('status', 'canceled'), ('join_date', datetime.datetime(2015, 1, 7, 0, 0)), ('cancel_date', datetime.datetime(2015, 4, 20, 0, 0)), ('days_to_cancel', 103), ('is_udacity', False), ('is_canceled', True)])\n",
      "OrderedDict([('account_key', '108'), ('status', 'canceled'), ('join_date', datetime.datetime(2015, 4, 20, 0, 0)), ('cancel_date', datetime.datetime(2015, 5, 14, 0, 0)), ('days_to_cancel', 24), ('is_udacity', False), ('is_canceled', True)])\n"
     ]
    }
   ],
   "source": [
    "for enrollment in non_udacity_enrollments:\n",
    "    if enrollment['account_key'] == '108':\n",
    "        print(enrollment)"
   ]
  },
  {
   "cell_type": "code",
   "execution_count": 90,
   "metadata": {},
   "outputs": [
    {
     "data": {
      "text/plain": [
       "datetime.timedelta(-84)"
      ]
     },
     "execution_count": 90,
     "metadata": {},
     "output_type": "execute_result"
    }
   ],
   "source": [
    "a = dt(2015, 1, 26) # engagement before second enrollment \n",
    "\n",
    "b = dt(2015, 4, 20, 0, 0) # second enrollment \n",
    "\n",
    "a-b"
   ]
  },
  {
   "cell_type": "markdown",
   "metadata": {},
   "source": [
    "## Lessons Completed in First Week"
   ]
  },
  {
   "cell_type": "code",
   "execution_count": 91,
   "metadata": {},
   "outputs": [],
   "source": [
    "#####################################\n",
    "#                 9                 #\n",
    "#####################################\n",
    "\n",
    "## Adapt the code above to find the mean, standard deviation, minimum, and maximum for\n",
    "## the number of lessons completed by each student during the first week. Try creating\n",
    "## one or more functions to re-use the code above.\n",
    "\n",
    "def group_data(data, key_name):\n",
    "    \n",
    "    grouped_data = defaultdict(list)\n",
    "    for data_point in data:\n",
    "        key = data_point[key_name]\n",
    "        grouped_data[key].append(data_point)\n",
    "        \n",
    "    return grouped_data\n",
    "\n",
    "engagement_by_account = group_data(paid_engagement_in_first_week, 'account_key')"
   ]
  },
  {
   "cell_type": "code",
   "execution_count": 92,
   "metadata": {},
   "outputs": [],
   "source": [
    "def sum_grouped_items(grouped_data, field_name):\n",
    "    \n",
    "    summed_data_by_fieldname = {}\n",
    "    \n",
    "    for key, data_points in grouped_data.items():\n",
    "        total_sum = 0\n",
    "        for data_point in data_points:\n",
    "            total_sum += data_point[field_name]      \n",
    "        summed_data_by_fieldname[key] = total_sum\n",
    "            \n",
    "    return summed_data_by_fieldname\n",
    "\n",
    "total_minutes_by_account = sum_grouped_items(engagement_by_account, 'total_minutes_visited')"
   ]
  },
  {
   "cell_type": "code",
   "execution_count": 93,
   "metadata": {},
   "outputs": [
    {
     "name": "stdout",
     "output_type": "stream",
     "text": [
      "Mean: 306.70832675342825\n",
      "Standard deviation: 412.99693340852957\n",
      "Minimum: 0.0\n",
      "Maximum: 3564.7332644989997\n"
     ]
    }
   ],
   "source": [
    "def describe_data(summed_data):\n",
    "\n",
    "    data = summed_data.values()\n",
    "    data = list(data)\n",
    "\n",
    "    print('Mean:', np.mean(data))\n",
    "    print('Standard deviation:', np.std(data))\n",
    "    print('Minimum:', np.min(data))\n",
    "    print('Maximum:', np.max(data))\n",
    "\n",
    "describe_data(total_minutes_by_account)"
   ]
  },
  {
   "cell_type": "code",
   "execution_count": 94,
   "metadata": {},
   "outputs": [
    {
     "name": "stdout",
     "output_type": "stream",
     "text": [
      "Mean: 1.636180904522613\n",
      "Standard deviation: 3.002561299829423\n",
      "Minimum: 0\n",
      "Maximum: 36\n"
     ]
    }
   ],
   "source": [
    "lessons_completed = sum_grouped_items(engagement_by_account, \"lessons_completed\")\n",
    "describe_data(lessons_completed)"
   ]
  },
  {
   "cell_type": "markdown",
   "metadata": {},
   "source": [
    "## Number of Visits in First Week"
   ]
  },
  {
   "cell_type": "code",
   "execution_count": 95,
   "metadata": {},
   "outputs": [],
   "source": [
    "######################################\n",
    "#                 10                 #\n",
    "######################################\n",
    "\n",
    "## Find the mean, standard deviation, minimum, and maximum for the number of\n",
    "## days each student visits the classroom during the first week."
   ]
  },
  {
   "cell_type": "code",
   "execution_count": 96,
   "metadata": {},
   "outputs": [
    {
     "data": {
      "text/plain": [
       "[OrderedDict([('utc_date', datetime.datetime(2015, 1, 9, 0, 0)),\n",
       "              ('num_courses_visited', 1),\n",
       "              ('total_minutes_visited', 11.6793745),\n",
       "              ('lessons_completed', 0),\n",
       "              ('projects_completed', 0),\n",
       "              ('account_key', '0')]),\n",
       " OrderedDict([('utc_date', datetime.datetime(2015, 1, 10, 0, 0)),\n",
       "              ('num_courses_visited', 2),\n",
       "              ('total_minutes_visited', 37.2848873333),\n",
       "              ('lessons_completed', 0),\n",
       "              ('projects_completed', 0),\n",
       "              ('account_key', '0')]),\n",
       " OrderedDict([('utc_date', datetime.datetime(2015, 1, 11, 0, 0)),\n",
       "              ('num_courses_visited', 2),\n",
       "              ('total_minutes_visited', 53.6337463333),\n",
       "              ('lessons_completed', 0),\n",
       "              ('projects_completed', 0),\n",
       "              ('account_key', '0')]),\n",
       " OrderedDict([('utc_date', datetime.datetime(2015, 1, 12, 0, 0)),\n",
       "              ('num_courses_visited', 1),\n",
       "              ('total_minutes_visited', 33.4892696667),\n",
       "              ('lessons_completed', 0),\n",
       "              ('projects_completed', 0),\n",
       "              ('account_key', '0')]),\n",
       " OrderedDict([('utc_date', datetime.datetime(2015, 1, 13, 0, 0)),\n",
       "              ('num_courses_visited', 1),\n",
       "              ('total_minutes_visited', 64.7796776667),\n",
       "              ('lessons_completed', 0),\n",
       "              ('projects_completed', 0),\n",
       "              ('account_key', '0')]),\n",
       " OrderedDict([('utc_date', datetime.datetime(2015, 1, 14, 0, 0)),\n",
       "              ('num_courses_visited', 1),\n",
       "              ('total_minutes_visited', 151.617576833),\n",
       "              ('lessons_completed', 1),\n",
       "              ('projects_completed', 0),\n",
       "              ('account_key', '0')]),\n",
       " OrderedDict([('utc_date', datetime.datetime(2015, 1, 15, 0, 0)),\n",
       "              ('num_courses_visited', 1),\n",
       "              ('total_minutes_visited', 142.395963833),\n",
       "              ('lessons_completed', 0),\n",
       "              ('projects_completed', 0),\n",
       "              ('account_key', '0')])]"
      ]
     },
     "execution_count": 96,
     "metadata": {},
     "output_type": "execute_result"
    }
   ],
   "source": [
    "engagement_by_account[\"0\"]"
   ]
  },
  {
   "cell_type": "code",
   "execution_count": 97,
   "metadata": {},
   "outputs": [],
   "source": [
    "def sum_days(grouped_data, field_name):\n",
    "    \n",
    "    summed_data_by_fieldname = {}\n",
    "    \n",
    "    for key, data_points in grouped_data.items():\n",
    "        total_sum = 0\n",
    "        for data_point in data_points:\n",
    "            if data_point[field_name] > 0:\n",
    "                total_sum += 1\n",
    "        summed_data_by_fieldname[key] = total_sum\n",
    "            \n",
    "    return summed_data_by_fieldname\n",
    "\n",
    "total_days_visited = sum_days(engagement_by_account, 'num_courses_visited')"
   ]
  },
  {
   "cell_type": "markdown",
   "metadata": {},
   "source": [
    "## Splitting out Passing Students"
   ]
  },
  {
   "cell_type": "code",
   "execution_count": 98,
   "metadata": {},
   "outputs": [],
   "source": [
    "######################################\n",
    "#                 11                 #\n",
    "######################################\n",
    "\n",
    "## Create two lists of engagement data for paid students in the first week.\n",
    "## The first list should contain data for students who eventually pass the\n",
    "## subway project, and the second list should contain data for students\n",
    "## who do not.\n",
    "\n",
    "subway_project_lesson_keys = ['746169184', '3176718735']\n",
    "\n",
    "project_passed = set()\n",
    "\n",
    "for submission in project_submissions:        \n",
    "    lesson_key = submission[\"lesson_key\"]\n",
    "    assigned_rating = submission[\"assigned_rating\"]\n",
    "    student = submission['account_key']\n",
    "    \n",
    "    if lesson_key in subway_project_lesson_keys and \\\n",
    "        (assigned_rating == \"PASSED\" or assigned_rating == \"DISTINCTION\"):\n",
    "        project_passed.add(student)\n",
    "\n",
    "passing_engagement = []\n",
    "non_passing_engagement = []\n",
    "            \n",
    "for engagement in paid_engagement_in_first_week:  \n",
    "    student = engagement['account_key']                     # Did this student pass the first project?\n",
    "    if student in project_passed:\n",
    "        passing_engagement.append(engagement)        \n",
    "    else: \n",
    "        non_passing_engagement.append(engagement)          \n",
    "            "
   ]
  },
  {
   "cell_type": "code",
   "execution_count": 99,
   "metadata": {},
   "outputs": [
    {
     "name": "stdout",
     "output_type": "stream",
     "text": [
      "passing_engagement 4527\n",
      "non_passing_engagement 2392\n"
     ]
    }
   ],
   "source": [
    "print(\"passing_engagement\", len(passing_engagement))\n",
    "print(\"non_passing_engagement\", len(non_passing_engagement))"
   ]
  },
  {
   "cell_type": "markdown",
   "metadata": {},
   "source": [
    "## Comparing the Two Student Groups"
   ]
  },
  {
   "cell_type": "code",
   "execution_count": 100,
   "metadata": {},
   "outputs": [],
   "source": [
    "######################################\n",
    "#                 12                 #\n",
    "######################################\n",
    "\n",
    "## Compute some metrics you're interested in and see how they differ for\n",
    "## students who pass the subway project vs. students who don't. A good\n",
    "## starting point would be the metrics we looked at earlier (minutes spent\n",
    "## in the classroom, lessons completed, and days visited).\n",
    "\n",
    "from matplotlib import pyplot as plt\n",
    "%matplotlib inline"
   ]
  },
  {
   "cell_type": "code",
   "execution_count": 101,
   "metadata": {},
   "outputs": [],
   "source": [
    "passing_engagement_by_account = group_data(passing_engagement, 'account_key')\n",
    "non_passing_engagement_by_account = group_data(non_passing_engagement, 'account_key')"
   ]
  },
  {
   "cell_type": "code",
   "execution_count": 102,
   "metadata": {},
   "outputs": [
    {
     "name": "stdout",
     "output_type": "stream",
     "text": [
      "Statistics for lessons_completed:\n",
      "\n",
      "Passing engagement:\n",
      "Mean: 2.052550231839258\n",
      "Standard deviation: 3.1422270555779344\n",
      "Minimum: 0\n",
      "Maximum: 36\n",
      "\n",
      "Non-passing engagement:\n",
      "Mean: 0.8620689655172413\n",
      "Standard deviation: 2.5491599418312028\n",
      "Minimum: 0\n",
      "Maximum: 27\n"
     ]
    }
   ],
   "source": [
    "# Passing engagement: lessons_completed\n",
    "si_total_lessons_completed = sum_grouped_items(passing_engagement_by_account, 'lessons_completed')\n",
    "print(\"Statistics for lessons_completed:\\n\\nPassing engagement:\")\n",
    "data = describe_data(si_total_lessons_completed)\n",
    "\n",
    "# Non-passing engagement: lessons_completed\n",
    "no_total_lessons_completed = sum_grouped_items(non_passing_engagement_by_account, 'lessons_completed')\n",
    "print(\"\\nNon-passing engagement:\")\n",
    "describe_data(no_total_lessons_completed)"
   ]
  },
  {
   "cell_type": "code",
   "execution_count": 103,
   "metadata": {},
   "outputs": [
    {
     "name": "stdout",
     "output_type": "stream",
     "text": [
      "Statistics for total_minutes_visited:\n",
      "\n",
      "Passing engagement:\n",
      "Mean: 394.58604648350865\n",
      "Standard deviation: 448.4995193265521\n",
      "Minimum: 0.0\n",
      "Maximum: 3564.7332644989997\n",
      "\n",
      "Non-passing engagement:\n",
      "Mean: 143.32647426675584\n",
      "Standard deviation: 269.5386190114951\n",
      "Minimum: 0.0\n",
      "Maximum: 1768.5227493319999\n"
     ]
    }
   ],
   "source": [
    "# Passing engagement: total_minutes_visited\n",
    "si_total_minutes_spent = sum_grouped_items(passing_engagement_by_account, 'total_minutes_visited')\n",
    "print(\"Statistics for total_minutes_visited:\\n\\nPassing engagement:\")\n",
    "describe_data(si_total_minutes_spent)\n",
    "\n",
    "# Non-passing engagement: minutes_visited\n",
    "no_total_minutes_spent = sum_grouped_items(non_passing_engagement_by_account, 'total_minutes_visited')\n",
    "print(\"\\nNon-passing engagement:\")\n",
    "describe_data(no_total_minutes_spent)"
   ]
  },
  {
   "cell_type": "code",
   "execution_count": 104,
   "metadata": {},
   "outputs": [
    {
     "name": "stdout",
     "output_type": "stream",
     "text": [
      "Statistics for num_days_visited:\n",
      "\n",
      "Passing engagement:\n",
      "Mean: 3.384853168469861\n",
      "Standard deviation: 2.2588214709184595\n",
      "Minimum: 0\n",
      "Maximum: 7\n",
      "\n",
      "Non-passing engagement:\n",
      "Mean: 1.9051724137931034\n",
      "Standard deviation: 1.9057314413619046\n",
      "Minimum: 0\n",
      "Maximum: 7\n"
     ]
    }
   ],
   "source": [
    "# Passing engagement: num_days_visited\n",
    "si_total_days_visited = sum_days(passing_engagement_by_account, 'num_courses_visited')\n",
    "print(\"Statistics for num_days_visited:\\n\\nPassing engagement:\")\n",
    "describe_data(si_total_days_visited)\n",
    "\n",
    "\n",
    "# Non-passing engagement: num_days_visited\n",
    "no_total_days_visited = sum_days(non_passing_engagement_by_account, 'num_courses_visited')\n",
    "print(\"\\nNon-passing engagement:\")\n",
    "describe_data(no_total_days_visited)"
   ]
  },
  {
   "cell_type": "markdown",
   "metadata": {},
   "source": [
    "## Making Histograms"
   ]
  },
  {
   "cell_type": "code",
   "execution_count": 105,
   "metadata": {},
   "outputs": [],
   "source": [
    "######################################\n",
    "#                 13                 #\n",
    "######################################\n",
    "\n",
    "## Make histograms of the three metrics we looked at earlier for both\n",
    "## students who passed the subway project and students who didn't. You\n",
    "## might also want to make histograms of any other metrics you examined."
   ]
  },
  {
   "cell_type": "code",
   "execution_count": 110,
   "metadata": {},
   "outputs": [
    {
     "data": {
      "text/plain": [
       "Text(0.5,1,'Distribution of total number of lessons completed during the first weekfor students who passed and did not pass the first project')"
      ]
     },
     "execution_count": 110,
     "metadata": {},
     "output_type": "execute_result"
    },
    {
     "data": {
      "image/png": "[encoded data removed]",
      "text/plain": [
       "<Figure size 432x288 with 1 Axes>"
      ]
     },
     "metadata": {},
     "output_type": "display_data"
    }
   ],
   "source": [
    "import seaborn as sns\n",
    "sns.set()\n",
    "\n",
    "plt.hist(si_total_lessons_completed.values(), label='Passing', bins=20)\n",
    "plt.hist(no_total_lessons_completed.values(), label='Non-passing', bins=20)\n",
    "\n",
    "legend = plt.legend(loc='upper center', shadow=True, fontsize='x-large')\n",
    "legend.get_frame()\n",
    "plt.xlabel(\"Lessons completed\")\n",
    "plt.ylabel(\"Number of students\")\n",
    "plt.title(\"Distribution of total number of lessons completed during the first week\" +\n",
    "          \"for students who passed and did not pass the first project\")\n"
   ]
  },
  {
   "cell_type": "code",
   "execution_count": 111,
   "metadata": {},
   "outputs": [
    {
     "data": {
      "text/plain": [
       "Text(0.5,1,'Distribution of total number of minutes spent in the classroom during the first weekfor students who passed and did not pass the first project')"
      ]
     },
     "execution_count": 111,
     "metadata": {},
     "output_type": "execute_result"
    },
    {
     "data": {
      "image/png": "[encoded data removed]",
      "text/plain": [
       "<Figure size 432x288 with 1 Axes>"
      ]
     },
     "metadata": {},
     "output_type": "display_data"
    }
   ],
   "source": [
    "plt.hist(si_total_minutes_spent.values(), label='Passing', bins=20)\n",
    "plt.hist(no_total_minutes_spent.values(), label='Non-passing', bins=20)\n",
    "\n",
    "legend = plt.legend(loc='upper center', shadow=True, fontsize='x-large')\n",
    "legend.get_frame()\n",
    "plt.xlabel(\"Total minutes visited\")\n",
    "plt.ylabel(\"Number of students\")\n",
    "plt.title(\"Distribution of total number of minutes spent in the classroom during the first week\" +\n",
    "          \"for students who passed and did not pass the first project\")"
   ]
  },
  {
   "cell_type": "code",
   "execution_count": 112,
   "metadata": {},
   "outputs": [
    {
     "data": {
      "text/plain": [
       "Text(0.5,1,'Distribution of days spent in the classroom during the first weekfor students who passed and did not pass the first project')"
      ]
     },
     "execution_count": 112,
     "metadata": {},
     "output_type": "execute_result"
    },
    {
     "data": {
      "image/png": "[encoded data removed]",
      "text/plain": [
       "<Figure size 432x288 with 1 Axes>"
      ]
     },
     "metadata": {},
     "output_type": "display_data"
    }
   ],
   "source": [
    "plt.hist(si_total_days_visited.values(), label='Passing', bins=8)\n",
    "plt.hist(no_total_days_visited.values(), label='Non-passing', bins=8)\n",
    "\n",
    "legend = plt.legend(loc='best', shadow=True, fontsize='small')\n",
    "legend.get_frame()\n",
    "plt.xlabel(\"Number of days visited\")\n",
    "plt.ylabel(\"Number of students\")\n",
    "plt.title(\"Distribution of days spent in the classroom during the first week\" +\n",
    "          \"for students who passed and did not pass the first project\")"
   ]
  },
  {
   "cell_type": "markdown",
   "metadata": {},
   "source": [
    "## Improving Plots and Sharing Findings"
   ]
  },
  {
   "cell_type": "code",
   "execution_count": 113,
   "metadata": {},
   "outputs": [],
   "source": [
    "######################################\n",
    "#                 14                 #\n",
    "######################################\n",
    "\n",
    "## Make a more polished version of at least one of your visualizations\n",
    "## from earlier. Try importing the seaborn library to make the visualization\n",
    "## look better, adding axis labels and a title, and changing one or more\n",
    "## arguments to the hist() function."
   ]
  }
 ],
 "metadata": {
  "kernelspec": {
   "display_name": "Python 3",
   "language": "python",
   "name": "python3"
  },
  "language_info": {
   "codemirror_mode": {
    "name": "ipython",
    "version": 3
   },
   "file_extension": ".py",
   "mimetype": "text/x-python",
   "name": "python",
   "nbconvert_exporter": "python",
   "pygments_lexer": "ipython3",
   "version": "3.6.5"
  }
 },
 "nbformat": 4,
 "nbformat_minor": 1
}
